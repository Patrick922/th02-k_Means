{
 "cells": [
  {
   "cell_type": "markdown",
   "metadata": {},
   "source": [
    "# Musterlösung - Übungen zu Clustering mit k-Means"
   ]
  },
  {
   "cell_type": "markdown",
   "metadata": {},
   "source": [
    "> Führen Sie den k-Means Algorithmus mit R auf den Standarddatensatz `USArrests` durch und beantworten Sie die gestellten Fragen. <br> Der Datensatz liefert dabei Verbrechensdaten aus den USA."
   ]
  },
  {
   "cell_type": "markdown",
   "metadata": {},
   "source": [
    "## Aufgabe 1\n",
    "\n",
    "Binden Sie alle notwendigen Bibliotheken ein und lade den Standarddatensatz `USArrests` als Dataframe ein. <br>\n",
    "Wieviele Merkmalswerte liegen bei diesem Datensatz vor? <br>\n",
    "Wieviele Einträge hat jeder Merkmalswert? Welche Bedeutung hat diese Zahl? <br>\n",
    "Welcher Merkmalswert hat den höchsten Mittelwert?"
   ]
  },
  {
   "cell_type": "code",
   "execution_count": null,
   "metadata": {},
   "outputs": [],
   "source": [
    "install.packages(c(\"cluster\", \"factoextra\"))"
   ]
  },
  {
   "cell_type": "code",
   "execution_count": 1,
   "metadata": {},
   "outputs": [
    {
     "name": "stderr",
     "output_type": "stream",
     "text": [
      "Loading required package: ggplot2\n",
      "Welcome! Related Books: `Practical Guide To Cluster Analysis in R` at https://goo.gl/13EFCZ\n"
     ]
    }
   ],
   "source": [
    "library(factoextra)"
   ]
  },
  {
   "cell_type": "code",
   "execution_count": 2,
   "metadata": {},
   "outputs": [],
   "source": [
    "require(\"datasets\")\n",
    "data(\"USArrests\")\n",
    "df <- USArrests"
   ]
  },
  {
   "cell_type": "code",
   "execution_count": 3,
   "metadata": {},
   "outputs": [
    {
     "name": "stdout",
     "output_type": "stream",
     "text": [
      "'data.frame':\t50 obs. of  4 variables:\n",
      " $ Murder  : num  13.2 10 8.1 8.8 9 7.9 3.3 5.9 15.4 17.4 ...\n",
      " $ Assault : int  236 263 294 190 276 204 110 238 335 211 ...\n",
      " $ UrbanPop: int  58 48 80 50 91 78 77 72 80 60 ...\n",
      " $ Rape    : num  21.2 44.5 31 19.5 40.6 38.7 11.1 15.8 31.9 25.8 ...\n"
     ]
    }
   ],
   "source": [
    "str(df)"
   ]
  },
  {
   "cell_type": "code",
   "execution_count": 4,
   "metadata": {},
   "outputs": [
    {
     "data": {
      "text/plain": [
       "     Murder          Assault         UrbanPop          Rape      \n",
       " Min.   : 0.800   Min.   : 45.0   Min.   :32.00   Min.   : 7.30  \n",
       " 1st Qu.: 4.075   1st Qu.:109.0   1st Qu.:54.50   1st Qu.:15.07  \n",
       " Median : 7.250   Median :159.0   Median :66.00   Median :20.10  \n",
       " Mean   : 7.788   Mean   :170.8   Mean   :65.54   Mean   :21.23  \n",
       " 3rd Qu.:11.250   3rd Qu.:249.0   3rd Qu.:77.75   3rd Qu.:26.18  \n",
       " Max.   :17.400   Max.   :337.0   Max.   :91.00   Max.   :46.00  "
      ]
     },
     "metadata": {},
     "output_type": "display_data"
    }
   ],
   "source": [
    "summary(df)"
   ]
  },
  {
   "cell_type": "markdown",
   "metadata": {},
   "source": [
    "### Antworten\n",
    "\n",
    "Es gibt insgesamt vier Merkmalselemente, die jeweils einer Verbrechensart entsprechen (z.B. Mord). <br>\n",
    "Es gibt jeweils 50 Einträge je Merkmalelement. Diese 50 repräsentieren die 50 Bundesstaaten in den USA. <br>\n",
    "Der höchste Mittelwert liegt bei Körperverletzung/Beleidigung vor. Dieser beträgt 170,8."
   ]
  },
  {
   "cell_type": "markdown",
   "metadata": {},
   "source": [
    "## Aufgabe 2\n",
    "\n",
    "Lassen Sie sich die ersten Datensätze anzeigen. Was könnte an den Werten problematisch sein? <br>\n",
    "Führen Sie nachfolgend, dann die \"Verbesserung\" durch und überprüfen diese anhand der ersten Datensätze."
   ]
  },
  {
   "cell_type": "code",
   "execution_count": 5,
   "metadata": {},
   "outputs": [
    {
     "data": {
      "text/html": [
       "<table>\n",
       "<thead><tr><th></th><th scope=col>Murder</th><th scope=col>Assault</th><th scope=col>UrbanPop</th><th scope=col>Rape</th></tr></thead>\n",
       "<tbody>\n",
       "\t<tr><th scope=row>Alabama</th><td>13.2</td><td>236 </td><td>58  </td><td>21.2</td></tr>\n",
       "\t<tr><th scope=row>Alaska</th><td>10.0</td><td>263 </td><td>48  </td><td>44.5</td></tr>\n",
       "\t<tr><th scope=row>Arizona</th><td> 8.1</td><td>294 </td><td>80  </td><td>31.0</td></tr>\n",
       "\t<tr><th scope=row>Arkansas</th><td> 8.8</td><td>190 </td><td>50  </td><td>19.5</td></tr>\n",
       "\t<tr><th scope=row>California</th><td> 9.0</td><td>276 </td><td>91  </td><td>40.6</td></tr>\n",
       "\t<tr><th scope=row>Colorado</th><td> 7.9</td><td>204 </td><td>78  </td><td>38.7</td></tr>\n",
       "</tbody>\n",
       "</table>\n"
      ],
      "text/latex": [
       "\\begin{tabular}{r|llll}\n",
       "  & Murder & Assault & UrbanPop & Rape\\\\\n",
       "\\hline\n",
       "\tAlabama & 13.2 & 236  & 58   & 21.2\\\\\n",
       "\tAlaska & 10.0 & 263  & 48   & 44.5\\\\\n",
       "\tArizona &  8.1 & 294  & 80   & 31.0\\\\\n",
       "\tArkansas &  8.8 & 190  & 50   & 19.5\\\\\n",
       "\tCalifornia &  9.0 & 276  & 91   & 40.6\\\\\n",
       "\tColorado &  7.9 & 204  & 78   & 38.7\\\\\n",
       "\\end{tabular}\n"
      ],
      "text/markdown": [
       "\n",
       "| <!--/--> | Murder | Assault | UrbanPop | Rape | \n",
       "|---|---|---|---|---|---|\n",
       "| Alabama | 13.2 | 236  | 58   | 21.2 | \n",
       "| Alaska | 10.0 | 263  | 48   | 44.5 | \n",
       "| Arizona |  8.1 | 294  | 80   | 31.0 | \n",
       "| Arkansas |  8.8 | 190  | 50   | 19.5 | \n",
       "| California |  9.0 | 276  | 91   | 40.6 | \n",
       "| Colorado |  7.9 | 204  | 78   | 38.7 | \n",
       "\n",
       "\n"
      ],
      "text/plain": [
       "           Murder Assault UrbanPop Rape\n",
       "Alabama    13.2   236     58       21.2\n",
       "Alaska     10.0   263     48       44.5\n",
       "Arizona     8.1   294     80       31.0\n",
       "Arkansas    8.8   190     50       19.5\n",
       "California  9.0   276     91       40.6\n",
       "Colorado    7.9   204     78       38.7"
      ]
     },
     "metadata": {},
     "output_type": "display_data"
    }
   ],
   "source": [
    "head(df)"
   ]
  },
  {
   "cell_type": "markdown",
   "metadata": {},
   "source": [
    "## Antworten\n",
    "\n",
    "Die Werte sind nicht standardisiert, deshalb sollte eine Normalisierung durchgeführt werden. <br>\n",
    "Nachfolgend sind die Werte dann im Bereich 0 bis 1."
   ]
  },
  {
   "cell_type": "code",
   "execution_count": 6,
   "metadata": {},
   "outputs": [
    {
     "data": {
      "text/html": [
       "<table>\n",
       "<thead><tr><th></th><th scope=col>Murder</th><th scope=col>Assault</th><th scope=col>UrbanPop</th><th scope=col>Rape</th></tr></thead>\n",
       "<tbody>\n",
       "\t<tr><th scope=row>Alabama</th><td>0.7469880</td><td>0.6541096</td><td>0.4406780</td><td>0.3591731</td></tr>\n",
       "\t<tr><th scope=row>Alaska</th><td>0.5542169</td><td>0.7465753</td><td>0.2711864</td><td>0.9612403</td></tr>\n",
       "\t<tr><th scope=row>Arizona</th><td>0.4397590</td><td>0.8527397</td><td>0.8135593</td><td>0.6124031</td></tr>\n",
       "\t<tr><th scope=row>Arkansas</th><td>0.4819277</td><td>0.4965753</td><td>0.3050847</td><td>0.3152455</td></tr>\n",
       "\t<tr><th scope=row>California</th><td>0.4939759</td><td>0.7910959</td><td>1.0000000</td><td>0.8604651</td></tr>\n",
       "\t<tr><th scope=row>Colorado</th><td>0.4277108</td><td>0.5445205</td><td>0.7796610</td><td>0.8113695</td></tr>\n",
       "</tbody>\n",
       "</table>\n"
      ],
      "text/latex": [
       "\\begin{tabular}{r|llll}\n",
       "  & Murder & Assault & UrbanPop & Rape\\\\\n",
       "\\hline\n",
       "\tAlabama & 0.7469880 & 0.6541096 & 0.4406780 & 0.3591731\\\\\n",
       "\tAlaska & 0.5542169 & 0.7465753 & 0.2711864 & 0.9612403\\\\\n",
       "\tArizona & 0.4397590 & 0.8527397 & 0.8135593 & 0.6124031\\\\\n",
       "\tArkansas & 0.4819277 & 0.4965753 & 0.3050847 & 0.3152455\\\\\n",
       "\tCalifornia & 0.4939759 & 0.7910959 & 1.0000000 & 0.8604651\\\\\n",
       "\tColorado & 0.4277108 & 0.5445205 & 0.7796610 & 0.8113695\\\\\n",
       "\\end{tabular}\n"
      ],
      "text/markdown": [
       "\n",
       "| <!--/--> | Murder | Assault | UrbanPop | Rape | \n",
       "|---|---|---|---|---|---|\n",
       "| Alabama | 0.7469880 | 0.6541096 | 0.4406780 | 0.3591731 | \n",
       "| Alaska | 0.5542169 | 0.7465753 | 0.2711864 | 0.9612403 | \n",
       "| Arizona | 0.4397590 | 0.8527397 | 0.8135593 | 0.6124031 | \n",
       "| Arkansas | 0.4819277 | 0.4965753 | 0.3050847 | 0.3152455 | \n",
       "| California | 0.4939759 | 0.7910959 | 1.0000000 | 0.8604651 | \n",
       "| Colorado | 0.4277108 | 0.5445205 | 0.7796610 | 0.8113695 | \n",
       "\n",
       "\n"
      ],
      "text/plain": [
       "           Murder    Assault   UrbanPop  Rape     \n",
       "Alabama    0.7469880 0.6541096 0.4406780 0.3591731\n",
       "Alaska     0.5542169 0.7465753 0.2711864 0.9612403\n",
       "Arizona    0.4397590 0.8527397 0.8135593 0.6124031\n",
       "Arkansas   0.4819277 0.4965753 0.3050847 0.3152455\n",
       "California 0.4939759 0.7910959 1.0000000 0.8604651\n",
       "Colorado   0.4277108 0.5445205 0.7796610 0.8113695"
      ]
     },
     "metadata": {},
     "output_type": "display_data"
    }
   ],
   "source": [
    "normalize <- function(x){\n",
    "  return ((x-min(x))/(max(x)-min(x)))\n",
    "}\n",
    "\n",
    "df$Murder<- normalize(df$Murder)\n",
    "df$Assault<- normalize(df$Assault)\n",
    "df$UrbanPop<- normalize(df$UrbanPop)\n",
    "df$Rape<- normalize(df$Rape)\n",
    "head(df)"
   ]
  },
  {
   "cell_type": "markdown",
   "metadata": {},
   "source": [
    "## Aufgabe 3\n",
    "\n",
    "Bestimmen Sie, anhand der Ellenbogenmethode, die optimale Anzahl an Cluster/Gruppen. <br>\n",
    "Führen Sie im nächsten Schritt den k-Means-Algorithmus durch und speichern Sie das Ergebnis. <br>\n",
    "Wieviele Elemente wurden der Gruppe 3 zugeordnet? <br>\n",
    "Welcher Gruppe ist Ohio zugeordnet? <br>\n",
    "Wieviel beträgt die Hetorogenität aller Cluster (in %)?"
   ]
  },
  {
   "cell_type": "code",
   "execution_count": 7,
   "metadata": {},
   "outputs": [
    {
     "data": {},
     "metadata": {},
     "output_type": "display_data"
    },
    {
     "data": {
      "image/png": "[encoded data removed]",
      "text/plain": [
       "plot without title"
      ]
     },
     "metadata": {},
     "output_type": "display_data"
    }
   ],
   "source": [
    "fviz_nbclust(df, kmeans, method = \"wss\") +\n",
    "geom_vline(xintercept = 4, linetype = 2)"
   ]
  },
  {
   "cell_type": "code",
   "execution_count": 8,
   "metadata": {},
   "outputs": [],
   "source": [
    "result <- kmeans(df, 4, nstart=25)"
   ]
  },
  {
   "cell_type": "markdown",
   "metadata": {},
   "source": [
    "Die nachfolgenden Antworten könnne je nach gewählten k abweichen."
   ]
  },
  {
   "cell_type": "code",
   "execution_count": 11,
   "metadata": {},
   "outputs": [
    {
     "data": {
      "text/html": [
       "<ol class=list-inline>\n",
       "\t<li>13</li>\n",
       "\t<li>17</li>\n",
       "\t<li>12</li>\n",
       "\t<li>8</li>\n",
       "</ol>\n"
      ],
      "text/latex": [
       "\\begin{enumerate*}\n",
       "\\item 13\n",
       "\\item 17\n",
       "\\item 12\n",
       "\\item 8\n",
       "\\end{enumerate*}\n"
      ],
      "text/markdown": [
       "1. 13\n",
       "2. 17\n",
       "3. 12\n",
       "4. 8\n",
       "\n",
       "\n"
      ],
      "text/plain": [
       "[1] 13 17 12  8"
      ]
     },
     "metadata": {},
     "output_type": "display_data"
    }
   ],
   "source": [
    "result$size"
   ]
  },
  {
   "cell_type": "code",
   "execution_count": 10,
   "metadata": {},
   "outputs": [
    {
     "data": {
      "text/html": [
       "<dl class=dl-horizontal>\n",
       "\t<dt>Alabama</dt>\n",
       "\t\t<dd>4</dd>\n",
       "\t<dt>Alaska</dt>\n",
       "\t\t<dd>3</dd>\n",
       "\t<dt>Arizona</dt>\n",
       "\t\t<dd>3</dd>\n",
       "\t<dt>Arkansas</dt>\n",
       "\t\t<dd>4</dd>\n",
       "\t<dt>California</dt>\n",
       "\t\t<dd>3</dd>\n",
       "\t<dt>Colorado</dt>\n",
       "\t\t<dd>3</dd>\n",
       "\t<dt>Connecticut</dt>\n",
       "\t\t<dd>2</dd>\n",
       "\t<dt>Delaware</dt>\n",
       "\t\t<dd>2</dd>\n",
       "\t<dt>Florida</dt>\n",
       "\t\t<dd>3</dd>\n",
       "\t<dt>Georgia</dt>\n",
       "\t\t<dd>4</dd>\n",
       "\t<dt>Hawaii</dt>\n",
       "\t\t<dd>2</dd>\n",
       "\t<dt>Idaho</dt>\n",
       "\t\t<dd>1</dd>\n",
       "\t<dt>Illinois</dt>\n",
       "\t\t<dd>3</dd>\n",
       "\t<dt>Indiana</dt>\n",
       "\t\t<dd>2</dd>\n",
       "\t<dt>Iowa</dt>\n",
       "\t\t<dd>1</dd>\n",
       "\t<dt>Kansas</dt>\n",
       "\t\t<dd>2</dd>\n",
       "\t<dt>Kentucky</dt>\n",
       "\t\t<dd>1</dd>\n",
       "\t<dt>Louisiana</dt>\n",
       "\t\t<dd>4</dd>\n",
       "\t<dt>Maine</dt>\n",
       "\t\t<dd>1</dd>\n",
       "\t<dt>Maryland</dt>\n",
       "\t\t<dd>3</dd>\n",
       "\t<dt>Massachusetts</dt>\n",
       "\t\t<dd>2</dd>\n",
       "\t<dt>Michigan</dt>\n",
       "\t\t<dd>3</dd>\n",
       "\t<dt>Minnesota</dt>\n",
       "\t\t<dd>1</dd>\n",
       "\t<dt>Mississippi</dt>\n",
       "\t\t<dd>4</dd>\n",
       "\t<dt>Missouri</dt>\n",
       "\t\t<dd>2</dd>\n",
       "\t<dt>Montana</dt>\n",
       "\t\t<dd>1</dd>\n",
       "\t<dt>Nebraska</dt>\n",
       "\t\t<dd>1</dd>\n",
       "\t<dt>Nevada</dt>\n",
       "\t\t<dd>3</dd>\n",
       "\t<dt>New Hampshire</dt>\n",
       "\t\t<dd>1</dd>\n",
       "\t<dt>New Jersey</dt>\n",
       "\t\t<dd>2</dd>\n",
       "\t<dt>New Mexico</dt>\n",
       "\t\t<dd>3</dd>\n",
       "\t<dt>New York</dt>\n",
       "\t\t<dd>3</dd>\n",
       "\t<dt>North Carolina</dt>\n",
       "\t\t<dd>4</dd>\n",
       "\t<dt>North Dakota</dt>\n",
       "\t\t<dd>1</dd>\n",
       "\t<dt>Ohio</dt>\n",
       "\t\t<dd>2</dd>\n",
       "\t<dt>Oklahoma</dt>\n",
       "\t\t<dd>2</dd>\n",
       "\t<dt>Oregon</dt>\n",
       "\t\t<dd>2</dd>\n",
       "\t<dt>Pennsylvania</dt>\n",
       "\t\t<dd>2</dd>\n",
       "\t<dt>Rhode Island</dt>\n",
       "\t\t<dd>2</dd>\n",
       "\t<dt>South Carolina</dt>\n",
       "\t\t<dd>4</dd>\n",
       "\t<dt>South Dakota</dt>\n",
       "\t\t<dd>1</dd>\n",
       "\t<dt>Tennessee</dt>\n",
       "\t\t<dd>4</dd>\n",
       "\t<dt>Texas</dt>\n",
       "\t\t<dd>3</dd>\n",
       "\t<dt>Utah</dt>\n",
       "\t\t<dd>2</dd>\n",
       "\t<dt>Vermont</dt>\n",
       "\t\t<dd>1</dd>\n",
       "\t<dt>Virginia</dt>\n",
       "\t\t<dd>2</dd>\n",
       "\t<dt>Washington</dt>\n",
       "\t\t<dd>2</dd>\n",
       "\t<dt>West Virginia</dt>\n",
       "\t\t<dd>1</dd>\n",
       "\t<dt>Wisconsin</dt>\n",
       "\t\t<dd>1</dd>\n",
       "\t<dt>Wyoming</dt>\n",
       "\t\t<dd>2</dd>\n",
       "</dl>\n"
      ],
      "text/latex": [
       "\\begin{description*}\n",
       "\\item[Alabama] 4\n",
       "\\item[Alaska] 3\n",
       "\\item[Arizona] 3\n",
       "\\item[Arkansas] 4\n",
       "\\item[California] 3\n",
       "\\item[Colorado] 3\n",
       "\\item[Connecticut] 2\n",
       "\\item[Delaware] 2\n",
       "\\item[Florida] 3\n",
       "\\item[Georgia] 4\n",
       "\\item[Hawaii] 2\n",
       "\\item[Idaho] 1\n",
       "\\item[Illinois] 3\n",
       "\\item[Indiana] 2\n",
       "\\item[Iowa] 1\n",
       "\\item[Kansas] 2\n",
       "\\item[Kentucky] 1\n",
       "\\item[Louisiana] 4\n",
       "\\item[Maine] 1\n",
       "\\item[Maryland] 3\n",
       "\\item[Massachusetts] 2\n",
       "\\item[Michigan] 3\n",
       "\\item[Minnesota] 1\n",
       "\\item[Mississippi] 4\n",
       "\\item[Missouri] 2\n",
       "\\item[Montana] 1\n",
       "\\item[Nebraska] 1\n",
       "\\item[Nevada] 3\n",
       "\\item[New Hampshire] 1\n",
       "\\item[New Jersey] 2\n",
       "\\item[New Mexico] 3\n",
       "\\item[New York] 3\n",
       "\\item[North Carolina] 4\n",
       "\\item[North Dakota] 1\n",
       "\\item[Ohio] 2\n",
       "\\item[Oklahoma] 2\n",
       "\\item[Oregon] 2\n",
       "\\item[Pennsylvania] 2\n",
       "\\item[Rhode Island] 2\n",
       "\\item[South Carolina] 4\n",
       "\\item[South Dakota] 1\n",
       "\\item[Tennessee] 4\n",
       "\\item[Texas] 3\n",
       "\\item[Utah] 2\n",
       "\\item[Vermont] 1\n",
       "\\item[Virginia] 2\n",
       "\\item[Washington] 2\n",
       "\\item[West Virginia] 1\n",
       "\\item[Wisconsin] 1\n",
       "\\item[Wyoming] 2\n",
       "\\end{description*}\n"
      ],
      "text/markdown": [
       "Alabama\n",
       ":   4Alaska\n",
       ":   3Arizona\n",
       ":   3Arkansas\n",
       ":   4California\n",
       ":   3Colorado\n",
       ":   3Connecticut\n",
       ":   2Delaware\n",
       ":   2Florida\n",
       ":   3Georgia\n",
       ":   4Hawaii\n",
       ":   2Idaho\n",
       ":   1Illinois\n",
       ":   3Indiana\n",
       ":   2Iowa\n",
       ":   1Kansas\n",
       ":   2Kentucky\n",
       ":   1Louisiana\n",
       ":   4Maine\n",
       ":   1Maryland\n",
       ":   3Massachusetts\n",
       ":   2Michigan\n",
       ":   3Minnesota\n",
       ":   1Mississippi\n",
       ":   4Missouri\n",
       ":   2Montana\n",
       ":   1Nebraska\n",
       ":   1Nevada\n",
       ":   3New Hampshire\n",
       ":   1New Jersey\n",
       ":   2New Mexico\n",
       ":   3New York\n",
       ":   3North Carolina\n",
       ":   4North Dakota\n",
       ":   1Ohio\n",
       ":   2Oklahoma\n",
       ":   2Oregon\n",
       ":   2Pennsylvania\n",
       ":   2Rhode Island\n",
       ":   2South Carolina\n",
       ":   4South Dakota\n",
       ":   1Tennessee\n",
       ":   4Texas\n",
       ":   3Utah\n",
       ":   2Vermont\n",
       ":   1Virginia\n",
       ":   2Washington\n",
       ":   2West Virginia\n",
       ":   1Wisconsin\n",
       ":   1Wyoming\n",
       ":   2\n",
       "\n"
      ],
      "text/plain": [
       "       Alabama         Alaska        Arizona       Arkansas     California \n",
       "             4              3              3              4              3 \n",
       "      Colorado    Connecticut       Delaware        Florida        Georgia \n",
       "             3              2              2              3              4 \n",
       "        Hawaii          Idaho       Illinois        Indiana           Iowa \n",
       "             2              1              3              2              1 \n",
       "        Kansas       Kentucky      Louisiana          Maine       Maryland \n",
       "             2              1              4              1              3 \n",
       " Massachusetts       Michigan      Minnesota    Mississippi       Missouri \n",
       "             2              3              1              4              2 \n",
       "       Montana       Nebraska         Nevada  New Hampshire     New Jersey \n",
       "             1              1              3              1              2 \n",
       "    New Mexico       New York North Carolina   North Dakota           Ohio \n",
       "             3              3              4              1              2 \n",
       "      Oklahoma         Oregon   Pennsylvania   Rhode Island South Carolina \n",
       "             2              2              2              2              4 \n",
       "  South Dakota      Tennessee          Texas           Utah        Vermont \n",
       "             1              4              3              2              1 \n",
       "      Virginia     Washington  West Virginia      Wisconsin        Wyoming \n",
       "             2              2              1              1              2 "
      ]
     },
     "metadata": {},
     "output_type": "display_data"
    }
   ],
   "source": [
    "result$cluster"
   ]
  },
  {
   "cell_type": "code",
   "execution_count": 12,
   "metadata": {},
   "outputs": [
    {
     "data": {
      "text/html": [
       "0.720614235832155"
      ],
      "text/latex": [
       "0.720614235832155"
      ],
      "text/markdown": [
       "0.720614235832155"
      ],
      "text/plain": [
       "[1] 0.7206142"
      ]
     },
     "metadata": {},
     "output_type": "display_data"
    }
   ],
   "source": [
    "per <- result$betweens / result$totss\n",
    "per"
   ]
  },
  {
   "cell_type": "markdown",
   "metadata": {},
   "source": [
    "## Antworten\n",
    "\n",
    "Der dritten Gruppe sind insgesamt 12 Bundesstaaten zugeordnet. <br>\n",
    "Der Bundestaat Ohio ist der zweiten Gruppe zugeordnet. <br>\n",
    "Die Hetorogenität beträgt ca. 72% zwischen den Clustern."
   ]
  },
  {
   "cell_type": "markdown",
   "metadata": {},
   "source": [
    "## Aufgabe 4\n",
    "\n",
    "Lassen Sie sich die absoluten Durschnittswerte aller Cluster anzeigen. <br>\n",
    "Welche Verbrechensart kommt am wenigstens bei Gruppe 2 vor? <br>\n",
    "Hinweis: Nutze die Funktion `aggregate`."
   ]
  },
  {
   "cell_type": "code",
   "execution_count": 13,
   "metadata": {},
   "outputs": [
    {
     "data": {
      "text/html": [
       "<table>\n",
       "<thead><tr><th scope=col>cluster</th><th scope=col>Murder</th><th scope=col>Assault</th><th scope=col>UrbanPop</th><th scope=col>Rape</th></tr></thead>\n",
       "<tbody>\n",
       "\t<tr><td>1        </td><td> 3.600000</td><td> 78.53846</td><td>52.07692 </td><td>12.17692 </td></tr>\n",
       "\t<tr><td>2        </td><td> 5.852941</td><td>141.17647</td><td>73.64706 </td><td>19.33529 </td></tr>\n",
       "\t<tr><td>3        </td><td>10.966667</td><td>264.00000</td><td>76.50000 </td><td>33.60833 </td></tr>\n",
       "\t<tr><td>4        </td><td>13.937500</td><td>243.62500</td><td>53.75000 </td><td>21.41250 </td></tr>\n",
       "</tbody>\n",
       "</table>\n"
      ],
      "text/latex": [
       "\\begin{tabular}{r|lllll}\n",
       " cluster & Murder & Assault & UrbanPop & Rape\\\\\n",
       "\\hline\n",
       "\t 1         &  3.600000 &  78.53846 & 52.07692  & 12.17692 \\\\\n",
       "\t 2         &  5.852941 & 141.17647 & 73.64706  & 19.33529 \\\\\n",
       "\t 3         & 10.966667 & 264.00000 & 76.50000  & 33.60833 \\\\\n",
       "\t 4         & 13.937500 & 243.62500 & 53.75000  & 21.41250 \\\\\n",
       "\\end{tabular}\n"
      ],
      "text/markdown": [
       "\n",
       "cluster | Murder | Assault | UrbanPop | Rape | \n",
       "|---|---|---|---|\n",
       "| 1         |  3.600000 |  78.53846 | 52.07692  | 12.17692  | \n",
       "| 2         |  5.852941 | 141.17647 | 73.64706  | 19.33529  | \n",
       "| 3         | 10.966667 | 264.00000 | 76.50000  | 33.60833  | \n",
       "| 4         | 13.937500 | 243.62500 | 53.75000  | 21.41250  | \n",
       "\n",
       "\n"
      ],
      "text/plain": [
       "  cluster Murder    Assault   UrbanPop Rape    \n",
       "1 1        3.600000  78.53846 52.07692 12.17692\n",
       "2 2        5.852941 141.17647 73.64706 19.33529\n",
       "3 3       10.966667 264.00000 76.50000 33.60833\n",
       "4 4       13.937500 243.62500 53.75000 21.41250"
      ]
     },
     "metadata": {},
     "output_type": "display_data"
    }
   ],
   "source": [
    "aggregate(USArrests, by=list(cluster=result$cluster), mean)"
   ]
  },
  {
   "cell_type": "markdown",
   "metadata": {},
   "source": [
    "## Antworten\n",
    "\n",
    "Mord kommt mit fast 6 Fällen am wenigsten in Gruppe 2 vor."
   ]
  },
  {
   "cell_type": "markdown",
   "metadata": {},
   "source": [
    "## Aufgabe 5\n",
    "\n",
    "Lassen Sie die Cluster graphisch darstellen. <br>\n",
    "Hinweis: Nutze die Funktion `fviz_cluster`."
   ]
  },
  {
   "cell_type": "code",
   "execution_count": 15,
   "metadata": {},
   "outputs": [
    {
     "data": {},
     "metadata": {},
     "output_type": "display_data"
    },
    {
     "data": {
      "image/png": "[encoded data removed]",
      "text/plain": [
       "plot without title"
      ]
     },
     "metadata": {},
     "output_type": "display_data"
    }
   ],
   "source": [
    "fviz_cluster(result,data=df)"
   ]
  }
 ],
 "metadata": {
  "kernelspec": {
   "display_name": "R",
   "language": "R",
   "name": "ir"
  },
  "language_info": {
   "codemirror_mode": "r",
   "file_extension": ".r",
   "mimetype": "text/x-r-source",
   "name": "R",
   "pygments_lexer": "r",
   "version": "3.4.3"
  }
 },
 "nbformat": 4,
 "nbformat_minor": 2
}
