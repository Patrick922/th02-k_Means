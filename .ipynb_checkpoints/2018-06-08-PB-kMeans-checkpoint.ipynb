{
 "cells": [
  {
   "cell_type": "markdown",
   "metadata": {},
   "source": [
    "# Clustering mit k-Means\n",
    "\n",
    "Das *Clustering* gehört zum Feld des *unüberwachten Lernens*. Dabei werden Daten automatisiert in Cluster, Gruppen oder \"ähnlichen\" Objekten eingeteilt. Zuvor besitzt man jedoch keine Kenntnis darüber, wie die Gruppen am Ende aussehen sollen. Da wir deshalb auch nicht genau wissen können wonach wir schauen sollen, dient *Clustering* eher zum Herausfinden von Wissen, als für das Vorhersagen. Es erlaubt somit einen Einblick in natürliche Gruppierungen innerhalb eines Datensatzes.\n",
    "\n",
    "Wie kann der Computer wissen, wann eine Gruppe endet bzw. startet, ohne dabei fortgeschrittenes Wissen zu haben, was eine bestimmte Gruppe umfasst?\n",
    "*Clustering* handelt nach dem Prinzip, dass die Objekte innerhalb eines Clusters sehr ähnlich zueinander sind und gleichzeitig sehr unterschiedlich zu den Objekten außerhalb.\n",
    "\n",
    "*Clustering* ist dann nützlich, wenn vielseitige und verschiedene Daten durch eine viel kleinere Anzahl an Gruppen veranschaulicht werden können. Ein Beispiel hierfür ist die Kundensegmentierung vor Marketingkampagnen.\n",
    "\n",
    "*Clustering* sagt uns welche Gruppen aufgrund von Ähnlichkeiten entstehen, es liegt aber an uns umsetzbare und aussagekräftige Bezeichnungen für diese Gruppen zu finden. \n",
    "\n",
    "Beispiel:\n",
    "Organisation einer Konferenz über Data Science. Um die profesionelle Zusammenarbeit zu erhöhen, sollen die Teilnehmer aufgrund ihres aktuellen Forschungsgebiet zusammengesetzt werden (Informatik, Mathematik & Statistik, Machine Learning). Allerdings wurden die Teilnehmer in der Einladung nicht nach ihrem Forschungsgebiet gefragt. Deshalb wurden von jedem Teilnehmer die Publikation im Bereich Informatik und im Bereich Mathematik & Statistik gezählt. \n",
    "\n",
    "![Beispiel Konferenz 1](img/Example_Conference_1.jpg)\n",
    "\n",
    "__Anmerkung(1): Quelle für die Grafik? Oder selbst angefertigt? Würde es in beiden Fällen dazu schreiben.__\n",
    "\n",
    "\n",
    "\n",
    "Es lässt sich mit dem Auge ein Muster erkennen. Anstatt subjektiv Gruppen einzuteilen, wäre es nützlicher einen objektiven Algorithmus zu haben, der die Grenzen zwischen den Gruppen zieht und eine klare Regel vorgibt. Das Problem liegt allerdings darin, dass wir keine genauen Werte kennen die für die Gruppen gelten müssen. Eine Möglichkeit liegt darin, dass *Clustering* zu benutzen um Bezeichnungen für Gruppen zu finden. Danach dann einen *überwachten*-Algorithmus __Anmerkung(2): Was soll das sein?__ wie *Entscheidungsbäume* zu verwenden, um Vorhersagen treffen zu können. Dies wird *semi-überwachtes Lernen* genannt.\n",
    "\n",
    "![Beispiel Konferenz 2](img/Example_Conference_2.jpg)"
   ]
  },
  {
   "cell_type": "markdown",
   "metadata": {},
   "source": [
    "### k-Means Algorithmus\n",
    "\n",
    "Der *k-Means Algorithmus* ist die am meisten verwendete Clustering-Methode. "
   ]
  },
  {
   "cell_type": "markdown",
   "metadata": {},
   "source": [
    "Der *k-Means Algorithmus* beinhaltet das Zuordnen jeder der n Objekte zu einem der k Cluster, deren Anzahl k zuvor festgelegt wurde. Das Ziel ist die Unterschiede innerhalb eines Clusters zu minimieren und die Unterschiede zwischen den Clustern zu maximieren."
   ]
  },
  {
   "cell_type": "markdown",
   "metadata": {},
   "source": [
    "Der Algorithmus nutzt einen heuristischen Prozess, der lokal begrenzt optimale Lösungen findet. Es wird zuerst mit einer initialien Schätzung begonnen, um nachfolgend die Bedingungen leicht zu verändern, wodurch sich Homogänität innerhalb eines Clusters verändern kann. Der Algorithmus durchläuft prinzipiell zwei Phasen, die sich jedoch solange wiederholen bis Änderungen zu keiner Clusterveränderung mehr führen. Im ersten Schritt werden Objekte einer initialen Menge von k Clustern zugeordnet. Im zweiten Schritt werden die Bedingungen aktualisiert, indem die Clustergrenzen angepasst werden.  "
   ]
  },
  {
   "cell_type": "markdown",
   "metadata": {},
   "source": [
    "Der *k-Means Algorithmus* behandelt Merkmalswerte als Koordinaten in einem multidimensionalen Merkmalraums. Im Beispiel der Konferenz über Data Science würde es sich nur um einen zweidimensionalen Merkmalraums handeln. Im ersten Schritt werden k Punkte innerhalb des Merkmalraums ausgewählt, welche dann als Zentrum des Clusters dienen. Oftmals werden diese k Punkte zufällig anhand des Trainingssatzes __Anmerkung(3): TrainingsDATENsatzes?__ ausgewählt (bzw. Punkte aus Merkmalsraum wählen oder jedes Objekt initial einer Gruppe zuordnen). Da wir vermuten, dass es insgesamt drei Cluster geben wird verwenden wir hier k=3. Die drei Cluster-Zentren wurden gekennzeichnet.\n",
    "\n",
    "![Beispiel Konferenz 3](img/Example_Conference_3.jpg)"
   ]
  },
  {
   "cell_type": "markdown",
   "metadata": {},
   "source": [
    "### Benutzen der Distanz zum Zuordnen und Aktualisieren der Cluster\n",
    "\n",
    "Nun werden im zweiten Schritt alle anderen Objekte dem Zentrum zugeordnet, das am ähnlichsten bzw. sich am nächsten anhand der Distanz-Funktion befindet. Hierzu wird meistens die euklidische Distanz verwendet. Falls n die Anzahl der Merkmale beschreibt, dann lautet die Formel für die euklidische Distanz zwischen Objekt x und Objekt y: \n",
    "\n",
    "$$\n",
    "Dist(x,y) = \\sqrt{\\sum_{i=1}^{n} (x_i - y_i)^2\\>}\n",
    "$$"
   ]
  },
  {
   "cell_type": "markdown",
   "metadata": {},
   "source": [
    "Durch Benutzen der Distanz-Funktion kann die Entfernung zwischen jedem Objekt und jedem Cluster-Zentrum herausgefunden werden. Das Objekt wird dann dem nächstliegenden Cluster-Zentrum zugeordnet. Wie im nächsten Bild sichtbar ist, wurden die Objekte in die drei Segmente eingeteilt, welche als Cluster A, B und C bezeichnet sind. Die gestrichelten Linien kennzeichnen dabei die Grenzen im Voronoi-Diagramm, das durch die Cluster-Zentren erstellt wurden.\n",
    "\n",
    "![Beispiel Konferenz 4](img/Example_Conference_4.jpg)"
   ]
  },
  {
   "cell_type": "markdown",
   "metadata": {},
   "source": [
    "Nun folgt der Aktualisierungsschritt, indem zuerst die initialen Cluster-Zentren verschoben werden. Dies geschieht indem der Mittelwert von allen Elementen, die aktuell demselben Cluster zugeordnet sind, berechnet wird. So entsteht ein sogenannter *Zentroid*. So können bestimmte Punkte, durch Verschiebung der Grenzen, nun zu einem anderen Cluster zugeordnet werden. Nach der Aktualisierungsphase sieht die Abbildung nun wie folgt aus:\n",
    "\n",
    "![Beispiel Konferenz 5](img/Example_Conference_5.jpg)"
   ]
  },
  {
   "cell_type": "markdown",
   "metadata": {},
   "source": [
    "Diese Schritte wiederholen sich nun solange bis kein Punkt mehr neu zugeordnet wird. Jeder Punkt ist dann endgültig einem Cluster zugeordnet. Die Auswertung kann in zwei Arten erfolgen: \n",
    "Zum Einen kann für jedes Element die Clusterzugehörigkeit genannt werden oder man nennt die Koordinaten der Cluster-Zentroide. Es ist immer möglich die Cluster-Grenzen zu nennen."
   ]
  },
  {
   "cell_type": "markdown",
   "metadata": {},
   "source": [
    "### Geeignete Wahl der Cluster-Anzahl\n",
    "\n",
    "Um eine geeignete Wahl für die Anzahl der Cluster zu finden, muss darauf geachtet werden, dass nicht zu viel bzw. zu wenig Cluster verwendet werden. Zu viel hat das Risko der Überabstimmung der Daten und zu wenig das Risko der Inhomogenität der Cluster. Idealerweise besitzt man ein apriori Wissen über die wahren Gruppen. Zum Beispiel beim Clustern von Filmen kann man sich der Anzahl der Genres bei den Oscars bedienen. __Anmerkung(4): Das könnte man noch weiter ausführen, so dass es leichter verständlich ist.__\n",
    "Ohne apriori Wissen sagt eine Daumenregel, dass man k gleich der Quadratwurzel von (n/2) setzen soll, falls n die Anzahl an Elementen in einem Datensatz sind. __Anmerkung(5): Diese Formel könnte man herausstellen und formatieren.__ Eine andere Möglichkeit ist die Elbogenregel, die versucht die (In-)Homogenität innerhalb eines Clusters für verschiedene k abzuschätzen. Der Elbogenpunkt entspricht dem Wert k, ab dessen Zeitpunkt sich die Homogenität bzw. die Heterogenität nicht mehr signifikant verändert.\n",
    "\n",
    "![Elbogenpunkt 1](img/Elbow_1.jpg)\n",
    "\n",
    "Man sollte jedoch nicht zu viel Zeit für die Wahl von k verwenden."
   ]
  },
  {
   "cell_type": "markdown",
   "metadata": {},
   "source": [
    "### Die Stärken und Schwächen des Algorithmus\n",
    "\n",
    "Die Stärken des Algorithmus sind:\n",
    "- nutzt einfache Prinzipien, um Cluster zu identifizieren, die in nicht-statistischen Ausdrücken erklärt werden können\n",
    "- sehr flexibel und kann mit kleinen Änderungen angepasst werden, um Mängel zu beseitigen\n",
    "- ziemlich effizient und leistungsstark beim Einteilen von Daten in nützliche Cluster\n",
    "\n",
    "Die Schwächen des Algorithmus sind:\n",
    "- nicht so komplex und hochentwickelt, wie neuere Clustering-Algorithmen\n",
    "- durch das Nutzen eines zufälligen Elements, besteht die Chance keine Menge an optimalen Clustern zu finden\n",
    "- erfordert eine vernünftige Schätzung, wie viele Gruppen aus den Daten entstehen werden"
   ]
  },
  {
   "cell_type": "markdown",
   "metadata": {},
   "source": [
    "# Clustering mit k-Means - R-Beispiel\n",
    "> Dieses Beispiel folgt demjenigen __Anmerkung(6): Wem denn? Name?__, welches [hier](https://rpubs.com/Nitika/kmeans_Iris) seitens [RStudio](https://www.rstudio.com/) bereit gestellt wird. Wir nutzen dabei den in R mitgelieferten Datensatz `iris`. <br> Der Datensatz enthält dabei Einträge über Schwertlilien. Diese sollen dann mit Hilfe des k-Means-Algorithmus bestimmten Clustern zugeordnet werden."
   ]
  },
  {
   "cell_type": "markdown",
   "metadata": {},
   "source": [
    "Zu Beginn sollte das später benötigte Paket `factoextra` installiert und die entsprechende Bibliothek eingebunden werden. Diese dient später als nützliches Hilfsmittel zur graphischen Darstellung."
   ]
  },
  {
   "cell_type": "code",
   "execution_count": 1,
   "metadata": {},
   "outputs": [
    {
     "name": "stdout",
     "output_type": "stream",
     "text": [
      "package 'factoextra' successfully unpacked and MD5 sums checked\n",
      "\n",
      "The downloaded binary packages are in\n",
      "\tC:\\Users\\Patrick\\AppData\\Local\\Temp\\RtmpUdbva4\\downloaded_packages\n"
     ]
    }
   ],
   "source": [
    "install.packages(\"factoextra\")"
   ]
  },
  {
   "cell_type": "code",
   "execution_count": 2,
   "metadata": {},
   "outputs": [
    {
     "name": "stderr",
     "output_type": "stream",
     "text": [
      "Loading required package: ggplot2\n",
      "Welcome! Related Books: `Practical Guide To Cluster Analysis in R` at https://goo.gl/13EFCZ\n"
     ]
    }
   ],
   "source": [
    "library(factoextra)"
   ]
  },
  {
   "cell_type": "markdown",
   "metadata": {},
   "source": [
    "Im nächsten Schritt wird der zugehörige Standarddatensatz `iris` aus R geladen."
   ]
  },
  {
   "cell_type": "code",
   "execution_count": 3,
   "metadata": {},
   "outputs": [],
   "source": [
    "require(\"datasets\")\n",
    "data(\"iris\")"
   ]
  },
  {
   "cell_type": "markdown",
   "metadata": {},
   "source": [
    "Nun kann die Struktur des Datensatzes betrachtet werden."
   ]
  },
  {
   "cell_type": "code",
   "execution_count": 4,
   "metadata": {},
   "outputs": [
    {
     "name": "stdout",
     "output_type": "stream",
     "text": [
      "'data.frame':\t150 obs. of  5 variables:\n",
      " $ Sepal.Length: num  5.1 4.9 4.7 4.6 5 5.4 4.6 5 4.4 4.9 ...\n",
      " $ Sepal.Width : num  3.5 3 3.2 3.1 3.6 3.9 3.4 3.4 2.9 3.1 ...\n",
      " $ Petal.Length: num  1.4 1.4 1.3 1.5 1.4 1.7 1.4 1.5 1.4 1.5 ...\n",
      " $ Petal.Width : num  0.2 0.2 0.2 0.2 0.2 0.4 0.3 0.2 0.2 0.1 ...\n",
      " $ Species     : Factor w/ 3 levels \"setosa\",\"versicolor\",..: 1 1 1 1 1 1 1 1 1 1 ...\n"
     ]
    }
   ],
   "source": [
    "str(iris)"
   ]
  },
  {
   "cell_type": "markdown",
   "metadata": {},
   "source": [
    "Man erkennt, dass 150 Einträge vorliegen. Diese haben jeweils 5 Variablen (jeweils die Sepal/Petal, Länge/Breite, sowie die Spezies). <br> Bei der Spezies wird deutlich, dass es drei unterschiedliche gibt.\n",
    "![Sepal und Petal](img/petal_sepal_label.png)\n",
    "\n",
    "__Anmerkung(7): Den Text vielleicht nicht linksgebunden neben das Bild, sondern darunter schreiben?__"
   ]
  },
  {
   "cell_type": "markdown",
   "metadata": {},
   "source": [
    "Zusätzlich kann auch eine statistische Zusammenfassung des Datensatzes betrachtet werden."
   ]
  },
  {
   "cell_type": "code",
   "execution_count": 6,
   "metadata": {},
   "outputs": [
    {
     "data": {
      "text/plain": [
       "  Sepal.Length    Sepal.Width     Petal.Length    Petal.Width   \n",
       " Min.   :4.300   Min.   :2.000   Min.   :1.000   Min.   :0.100  \n",
       " 1st Qu.:5.100   1st Qu.:2.800   1st Qu.:1.600   1st Qu.:0.300  \n",
       " Median :5.800   Median :3.000   Median :4.350   Median :1.300  \n",
       " Mean   :5.843   Mean   :3.057   Mean   :3.758   Mean   :1.199  \n",
       " 3rd Qu.:6.400   3rd Qu.:3.300   3rd Qu.:5.100   3rd Qu.:1.800  \n",
       " Max.   :7.900   Max.   :4.400   Max.   :6.900   Max.   :2.500  \n",
       "       Species  \n",
       " setosa    :50  \n",
       " versicolor:50  \n",
       " virginica :50  \n",
       "                \n",
       "                \n",
       "                "
      ]
     },
     "metadata": {},
     "output_type": "display_data"
    }
   ],
   "source": [
    "summary(iris)"
   ]
  },
  {
   "cell_type": "markdown",
   "metadata": {},
   "source": [
    "Es zeigt sich, dass es jeweils 50 Einträge von den drei vorhandenen Spezien gibt. Zudem ist der Sepal im Durchschnitt länger als der Petal."
   ]
  },
  {
   "cell_type": "markdown",
   "metadata": {},
   "source": [
    "Außerdem kann man sich die ersten fünf Einträge anzeigen lassen."
   ]
  },
  {
   "cell_type": "code",
   "execution_count": 8,
   "metadata": {},
   "outputs": [
    {
     "data": {
      "text/html": [
       "<table>\n",
       "<thead><tr><th scope=col>Sepal.Length</th><th scope=col>Sepal.Width</th><th scope=col>Petal.Length</th><th scope=col>Petal.Width</th><th scope=col>Species</th></tr></thead>\n",
       "<tbody>\n",
       "\t<tr><td>5.1   </td><td>3.5   </td><td>1.4   </td><td>0.2   </td><td>setosa</td></tr>\n",
       "\t<tr><td>4.9   </td><td>3.0   </td><td>1.4   </td><td>0.2   </td><td>setosa</td></tr>\n",
       "\t<tr><td>4.7   </td><td>3.2   </td><td>1.3   </td><td>0.2   </td><td>setosa</td></tr>\n",
       "\t<tr><td>4.6   </td><td>3.1   </td><td>1.5   </td><td>0.2   </td><td>setosa</td></tr>\n",
       "\t<tr><td>5.0   </td><td>3.6   </td><td>1.4   </td><td>0.2   </td><td>setosa</td></tr>\n",
       "\t<tr><td>5.4   </td><td>3.9   </td><td>1.7   </td><td>0.4   </td><td>setosa</td></tr>\n",
       "</tbody>\n",
       "</table>\n"
      ],
      "text/latex": [
       "\\begin{tabular}{r|lllll}\n",
       " Sepal.Length & Sepal.Width & Petal.Length & Petal.Width & Species\\\\\n",
       "\\hline\n",
       "\t 5.1    & 3.5    & 1.4    & 0.2    & setosa\\\\\n",
       "\t 4.9    & 3.0    & 1.4    & 0.2    & setosa\\\\\n",
       "\t 4.7    & 3.2    & 1.3    & 0.2    & setosa\\\\\n",
       "\t 4.6    & 3.1    & 1.5    & 0.2    & setosa\\\\\n",
       "\t 5.0    & 3.6    & 1.4    & 0.2    & setosa\\\\\n",
       "\t 5.4    & 3.9    & 1.7    & 0.4    & setosa\\\\\n",
       "\\end{tabular}\n"
      ],
      "text/markdown": [
       "\n",
       "Sepal.Length | Sepal.Width | Petal.Length | Petal.Width | Species | \n",
       "|---|---|---|---|---|---|\n",
       "| 5.1    | 3.5    | 1.4    | 0.2    | setosa | \n",
       "| 4.9    | 3.0    | 1.4    | 0.2    | setosa | \n",
       "| 4.7    | 3.2    | 1.3    | 0.2    | setosa | \n",
       "| 4.6    | 3.1    | 1.5    | 0.2    | setosa | \n",
       "| 5.0    | 3.6    | 1.4    | 0.2    | setosa | \n",
       "| 5.4    | 3.9    | 1.7    | 0.4    | setosa | \n",
       "\n",
       "\n"
      ],
      "text/plain": [
       "  Sepal.Length Sepal.Width Petal.Length Petal.Width Species\n",
       "1 5.1          3.5         1.4          0.2         setosa \n",
       "2 4.9          3.0         1.4          0.2         setosa \n",
       "3 4.7          3.2         1.3          0.2         setosa \n",
       "4 4.6          3.1         1.5          0.2         setosa \n",
       "5 5.0          3.6         1.4          0.2         setosa \n",
       "6 5.4          3.9         1.7          0.4         setosa "
      ]
     },
     "metadata": {},
     "output_type": "display_data"
    }
   ],
   "source": [
    "head(iris)"
   ]
  },
  {
   "cell_type": "markdown",
   "metadata": {},
   "source": [
    "Da wir die Klassenlabels für unüberwachtes Lernen und unseren Algorithmus nicht benötigen, werden diese nun entfernt und in iris.class gespeichert."
   ]
  },
  {
   "cell_type": "code",
   "execution_count": 9,
   "metadata": {},
   "outputs": [
    {
     "data": {
      "text/html": [
       "<table>\n",
       "<thead><tr><th scope=col>Sepal.Length</th><th scope=col>Sepal.Width</th><th scope=col>Petal.Length</th><th scope=col>Petal.Width</th></tr></thead>\n",
       "<tbody>\n",
       "\t<tr><td>5.1</td><td>3.5</td><td>1.4</td><td>0.2</td></tr>\n",
       "\t<tr><td>4.9</td><td>3.0</td><td>1.4</td><td>0.2</td></tr>\n",
       "\t<tr><td>4.7</td><td>3.2</td><td>1.3</td><td>0.2</td></tr>\n",
       "\t<tr><td>4.6</td><td>3.1</td><td>1.5</td><td>0.2</td></tr>\n",
       "\t<tr><td>5.0</td><td>3.6</td><td>1.4</td><td>0.2</td></tr>\n",
       "\t<tr><td>5.4</td><td>3.9</td><td>1.7</td><td>0.4</td></tr>\n",
       "</tbody>\n",
       "</table>\n"
      ],
      "text/latex": [
       "\\begin{tabular}{r|llll}\n",
       " Sepal.Length & Sepal.Width & Petal.Length & Petal.Width\\\\\n",
       "\\hline\n",
       "\t 5.1 & 3.5 & 1.4 & 0.2\\\\\n",
       "\t 4.9 & 3.0 & 1.4 & 0.2\\\\\n",
       "\t 4.7 & 3.2 & 1.3 & 0.2\\\\\n",
       "\t 4.6 & 3.1 & 1.5 & 0.2\\\\\n",
       "\t 5.0 & 3.6 & 1.4 & 0.2\\\\\n",
       "\t 5.4 & 3.9 & 1.7 & 0.4\\\\\n",
       "\\end{tabular}\n"
      ],
      "text/markdown": [
       "\n",
       "Sepal.Length | Sepal.Width | Petal.Length | Petal.Width | \n",
       "|---|---|---|---|---|---|\n",
       "| 5.1 | 3.5 | 1.4 | 0.2 | \n",
       "| 4.9 | 3.0 | 1.4 | 0.2 | \n",
       "| 4.7 | 3.2 | 1.3 | 0.2 | \n",
       "| 4.6 | 3.1 | 1.5 | 0.2 | \n",
       "| 5.0 | 3.6 | 1.4 | 0.2 | \n",
       "| 5.4 | 3.9 | 1.7 | 0.4 | \n",
       "\n",
       "\n"
      ],
      "text/plain": [
       "  Sepal.Length Sepal.Width Petal.Length Petal.Width\n",
       "1 5.1          3.5         1.4          0.2        \n",
       "2 4.9          3.0         1.4          0.2        \n",
       "3 4.7          3.2         1.3          0.2        \n",
       "4 4.6          3.1         1.5          0.2        \n",
       "5 5.0          3.6         1.4          0.2        \n",
       "6 5.4          3.9         1.7          0.4        "
      ]
     },
     "metadata": {},
     "output_type": "display_data"
    }
   ],
   "source": [
    "iris.new <- iris[,c(1,2,3,4)]\n",
    "iris.class <- iris[,\"Species\"]\n",
    "head(iris.new)"
   ]
  },
  {
   "cell_type": "code",
   "execution_count": 10,
   "metadata": {},
   "outputs": [
    {
     "data": {
      "text/html": [
       "<ol class=list-inline>\n",
       "\t<li>setosa</li>\n",
       "\t<li>setosa</li>\n",
       "\t<li>setosa</li>\n",
       "\t<li>setosa</li>\n",
       "\t<li>setosa</li>\n",
       "\t<li>setosa</li>\n",
       "</ol>\n"
      ],
      "text/latex": [
       "\\begin{enumerate*}\n",
       "\\item setosa\n",
       "\\item setosa\n",
       "\\item setosa\n",
       "\\item setosa\n",
       "\\item setosa\n",
       "\\item setosa\n",
       "\\end{enumerate*}\n"
      ],
      "text/markdown": [
       "1. setosa\n",
       "2. setosa\n",
       "3. setosa\n",
       "4. setosa\n",
       "5. setosa\n",
       "6. setosa\n",
       "\n",
       "\n"
      ],
      "text/plain": [
       "[1] setosa setosa setosa setosa setosa setosa\n",
       "Levels: setosa versicolor virginica"
      ]
     },
     "metadata": {},
     "output_type": "display_data"
    }
   ],
   "source": [
    "head(iris.class)"
   ]
  },
  {
   "cell_type": "markdown",
   "metadata": {},
   "source": [
    "Im Folgenden normalisieren wir die Werte der Attribute auf 0 bis 1, mit einer selbst erstellten Funktion. __Anmerkung(8): Was macht die Funktion genau?__"
   ]
  },
  {
   "cell_type": "code",
   "execution_count": 11,
   "metadata": {},
   "outputs": [
    {
     "data": {
      "text/html": [
       "<table>\n",
       "<thead><tr><th scope=col>Sepal.Length</th><th scope=col>Sepal.Width</th><th scope=col>Petal.Length</th><th scope=col>Petal.Width</th></tr></thead>\n",
       "<tbody>\n",
       "\t<tr><td>0.22222222</td><td>0.6250000 </td><td>0.06779661</td><td>0.04166667</td></tr>\n",
       "\t<tr><td>0.16666667</td><td>0.4166667 </td><td>0.06779661</td><td>0.04166667</td></tr>\n",
       "\t<tr><td>0.11111111</td><td>0.5000000 </td><td>0.05084746</td><td>0.04166667</td></tr>\n",
       "\t<tr><td>0.08333333</td><td>0.4583333 </td><td>0.08474576</td><td>0.04166667</td></tr>\n",
       "\t<tr><td>0.19444444</td><td>0.6666667 </td><td>0.06779661</td><td>0.04166667</td></tr>\n",
       "\t<tr><td>0.30555556</td><td>0.7916667 </td><td>0.11864407</td><td>0.12500000</td></tr>\n",
       "</tbody>\n",
       "</table>\n"
      ],
      "text/latex": [
       "\\begin{tabular}{r|llll}\n",
       " Sepal.Length & Sepal.Width & Petal.Length & Petal.Width\\\\\n",
       "\\hline\n",
       "\t 0.22222222 & 0.6250000  & 0.06779661 & 0.04166667\\\\\n",
       "\t 0.16666667 & 0.4166667  & 0.06779661 & 0.04166667\\\\\n",
       "\t 0.11111111 & 0.5000000  & 0.05084746 & 0.04166667\\\\\n",
       "\t 0.08333333 & 0.4583333  & 0.08474576 & 0.04166667\\\\\n",
       "\t 0.19444444 & 0.6666667  & 0.06779661 & 0.04166667\\\\\n",
       "\t 0.30555556 & 0.7916667  & 0.11864407 & 0.12500000\\\\\n",
       "\\end{tabular}\n"
      ],
      "text/markdown": [
       "\n",
       "Sepal.Length | Sepal.Width | Petal.Length | Petal.Width | \n",
       "|---|---|---|---|---|---|\n",
       "| 0.22222222 | 0.6250000  | 0.06779661 | 0.04166667 | \n",
       "| 0.16666667 | 0.4166667  | 0.06779661 | 0.04166667 | \n",
       "| 0.11111111 | 0.5000000  | 0.05084746 | 0.04166667 | \n",
       "| 0.08333333 | 0.4583333  | 0.08474576 | 0.04166667 | \n",
       "| 0.19444444 | 0.6666667  | 0.06779661 | 0.04166667 | \n",
       "| 0.30555556 | 0.7916667  | 0.11864407 | 0.12500000 | \n",
       "\n",
       "\n"
      ],
      "text/plain": [
       "  Sepal.Length Sepal.Width Petal.Length Petal.Width\n",
       "1 0.22222222   0.6250000   0.06779661   0.04166667 \n",
       "2 0.16666667   0.4166667   0.06779661   0.04166667 \n",
       "3 0.11111111   0.5000000   0.05084746   0.04166667 \n",
       "4 0.08333333   0.4583333   0.08474576   0.04166667 \n",
       "5 0.19444444   0.6666667   0.06779661   0.04166667 \n",
       "6 0.30555556   0.7916667   0.11864407   0.12500000 "
      ]
     },
     "metadata": {},
     "output_type": "display_data"
    }
   ],
   "source": [
    "normalize <- function(x){\n",
    "  return ((x-min(x))/(max(x)-min(x)))\n",
    "}\n",
    "\n",
    "iris.new$Sepal.Length<- normalize(iris.new$Sepal.Length)\n",
    "iris.new$Sepal.Width<- normalize(iris.new$Sepal.Width)\n",
    "iris.new$Petal.Length<- normalize(iris.new$Petal.Length)\n",
    "iris.new$Petal.Width<- normalize(iris.new$Petal.Width)\n",
    "head(iris.new)"
   ]
  },
  {
   "cell_type": "markdown",
   "metadata": {},
   "source": [
    "Nun sind die Daten richtig vorbereiten und wir können den Ellenbogenpunkt (entspricht k) finden, indem wir die Inhomogenität innerhalb eines Clusters für verschiedene k betrachten. <br>\n",
    "Hierfür wird die Funktion __Anmerkung(9): Und was macht die Funktion?__ `fviz_nbclust` aus dem vorher eingebundenen Paket `factoextra` verwendet."
   ]
  },
  {
   "cell_type": "code",
   "execution_count": 12,
   "metadata": {},
   "outputs": [
    {
     "data": {},
     "metadata": {},
     "output_type": "display_data"
    },
    {
     "data": {
      "image/png": "[encoded data removed]",
      "text/plain": [
       "plot without title"
      ]
     },
     "metadata": {},
     "output_type": "display_data"
    }
   ],
   "source": [
    "fviz_nbclust(iris.new, kmeans, method = \"wss\") +\n",
    "geom_vline(xintercept = 3, linetype = 2)"
   ]
  },
  {
   "cell_type": "markdown",
   "metadata": {},
   "source": [
    "Es gibt nun mehrere Möglichkeiten k zu wählen. Wir entscheiden uns, dass wir k=3 wählen. Die Heterogenität innerhalb der Cluster ist hier für unsere Zwecke ausreichend minimal und eine Erhöhung der Clusteranzahl, würde kaum noch zu einer Reduzierung führen. <br>\n",
    "Nun kann der k-Means-Algorithmus mit k=3 angewendet werden. Dieser ist im `stats`-Paket von R enthalten."
   ]
  },
  {
   "cell_type": "code",
   "execution_count": 13,
   "metadata": {},
   "outputs": [],
   "source": [
    "result <- kmeans(iris.new, 3)"
   ]
  },
  {
   "cell_type": "markdown",
   "metadata": {},
   "source": [
    "Nun kann die Anzahl der Elemente bestimmt werden die pro Klasse gefunden wurden."
   ]
  },
  {
   "cell_type": "code",
   "execution_count": 15,
   "metadata": {},
   "outputs": [
    {
     "data": {
      "text/html": [
       "<ol class=list-inline>\n",
       "\t<li>50</li>\n",
       "\t<li>39</li>\n",
       "\t<li>61</li>\n",
       "</ol>\n"
      ],
      "text/latex": [
       "\\begin{enumerate*}\n",
       "\\item 50\n",
       "\\item 39\n",
       "\\item 61\n",
       "\\end{enumerate*}\n"
      ],
      "text/markdown": [
       "1. 50\n",
       "2. 39\n",
       "3. 61\n",
       "\n",
       "\n"
      ],
      "text/plain": [
       "[1] 50 39 61"
      ]
     },
     "metadata": {},
     "output_type": "display_data"
    }
   ],
   "source": [
    "result$size"
   ]
  },
  {
   "cell_type": "markdown",
   "metadata": {},
   "source": [
    "Außerdem können die Werte für die Zentroide herausgefunden werden."
   ]
  },
  {
   "cell_type": "code",
   "execution_count": 16,
   "metadata": {},
   "outputs": [
    {
     "data": {
      "text/html": [
       "<table>\n",
       "<thead><tr><th></th><th scope=col>Sepal.Length</th><th scope=col>Sepal.Width</th><th scope=col>Petal.Length</th><th scope=col>Petal.Width</th></tr></thead>\n",
       "<tbody>\n",
       "\t<tr><th scope=row>1</th><td>0.1961111 </td><td>0.5950000 </td><td>0.07830508</td><td>0.06083333</td></tr>\n",
       "\t<tr><th scope=row>2</th><td>0.7072650 </td><td>0.4508547 </td><td>0.79704476</td><td>0.82478632</td></tr>\n",
       "\t<tr><th scope=row>3</th><td>0.4412568 </td><td>0.3073770 </td><td>0.57571548</td><td>0.54918033</td></tr>\n",
       "</tbody>\n",
       "</table>\n"
      ],
      "text/latex": [
       "\\begin{tabular}{r|llll}\n",
       "  & Sepal.Length & Sepal.Width & Petal.Length & Petal.Width\\\\\n",
       "\\hline\n",
       "\t1 & 0.1961111  & 0.5950000  & 0.07830508 & 0.06083333\\\\\n",
       "\t2 & 0.7072650  & 0.4508547  & 0.79704476 & 0.82478632\\\\\n",
       "\t3 & 0.4412568  & 0.3073770  & 0.57571548 & 0.54918033\\\\\n",
       "\\end{tabular}\n"
      ],
      "text/markdown": [
       "\n",
       "| <!--/--> | Sepal.Length | Sepal.Width | Petal.Length | Petal.Width | \n",
       "|---|---|---|\n",
       "| 1 | 0.1961111  | 0.5950000  | 0.07830508 | 0.06083333 | \n",
       "| 2 | 0.7072650  | 0.4508547  | 0.79704476 | 0.82478632 | \n",
       "| 3 | 0.4412568  | 0.3073770  | 0.57571548 | 0.54918033 | \n",
       "\n",
       "\n"
      ],
      "text/plain": [
       "  Sepal.Length Sepal.Width Petal.Length Petal.Width\n",
       "1 0.1961111    0.5950000   0.07830508   0.06083333 \n",
       "2 0.7072650    0.4508547   0.79704476   0.82478632 \n",
       "3 0.4412568    0.3073770   0.57571548   0.54918033 "
      ]
     },
     "metadata": {},
     "output_type": "display_data"
    }
   ],
   "source": [
    "result$center"
   ]
  },
  {
   "cell_type": "markdown",
   "metadata": {},
   "source": [
    "Zudem kann nun bei jedem Eintrag überprüft werden, zu welcher Klasse dieser zugeordnet wurde."
   ]
  },
  {
   "cell_type": "code",
   "execution_count": 17,
   "metadata": {},
   "outputs": [
    {
     "data": {
      "text/html": [
       "<ol class=list-inline>\n",
       "\t<li>1</li>\n",
       "\t<li>1</li>\n",
       "\t<li>1</li>\n",
       "\t<li>1</li>\n",
       "\t<li>1</li>\n",
       "\t<li>1</li>\n",
       "\t<li>1</li>\n",
       "\t<li>1</li>\n",
       "\t<li>1</li>\n",
       "\t<li>1</li>\n",
       "\t<li>1</li>\n",
       "\t<li>1</li>\n",
       "\t<li>1</li>\n",
       "\t<li>1</li>\n",
       "\t<li>1</li>\n",
       "\t<li>1</li>\n",
       "\t<li>1</li>\n",
       "\t<li>1</li>\n",
       "\t<li>1</li>\n",
       "\t<li>1</li>\n",
       "\t<li>1</li>\n",
       "\t<li>1</li>\n",
       "\t<li>1</li>\n",
       "\t<li>1</li>\n",
       "\t<li>1</li>\n",
       "\t<li>1</li>\n",
       "\t<li>1</li>\n",
       "\t<li>1</li>\n",
       "\t<li>1</li>\n",
       "\t<li>1</li>\n",
       "\t<li>1</li>\n",
       "\t<li>1</li>\n",
       "\t<li>1</li>\n",
       "\t<li>1</li>\n",
       "\t<li>1</li>\n",
       "\t<li>1</li>\n",
       "\t<li>1</li>\n",
       "\t<li>1</li>\n",
       "\t<li>1</li>\n",
       "\t<li>1</li>\n",
       "\t<li>1</li>\n",
       "\t<li>1</li>\n",
       "\t<li>1</li>\n",
       "\t<li>1</li>\n",
       "\t<li>1</li>\n",
       "\t<li>1</li>\n",
       "\t<li>1</li>\n",
       "\t<li>1</li>\n",
       "\t<li>1</li>\n",
       "\t<li>1</li>\n",
       "\t<li>2</li>\n",
       "\t<li>3</li>\n",
       "\t<li>2</li>\n",
       "\t<li>3</li>\n",
       "\t<li>3</li>\n",
       "\t<li>3</li>\n",
       "\t<li>3</li>\n",
       "\t<li>3</li>\n",
       "\t<li>3</li>\n",
       "\t<li>3</li>\n",
       "\t<li>3</li>\n",
       "\t<li>3</li>\n",
       "\t<li>3</li>\n",
       "\t<li>3</li>\n",
       "\t<li>3</li>\n",
       "\t<li>3</li>\n",
       "\t<li>3</li>\n",
       "\t<li>3</li>\n",
       "\t<li>3</li>\n",
       "\t<li>3</li>\n",
       "\t<li>3</li>\n",
       "\t<li>3</li>\n",
       "\t<li>3</li>\n",
       "\t<li>3</li>\n",
       "\t<li>3</li>\n",
       "\t<li>3</li>\n",
       "\t<li>3</li>\n",
       "\t<li>2</li>\n",
       "\t<li>3</li>\n",
       "\t<li>3</li>\n",
       "\t<li>3</li>\n",
       "\t<li>3</li>\n",
       "\t<li>3</li>\n",
       "\t<li>3</li>\n",
       "\t<li>3</li>\n",
       "\t<li>3</li>\n",
       "\t<li>3</li>\n",
       "\t<li>3</li>\n",
       "\t<li>3</li>\n",
       "\t<li>3</li>\n",
       "\t<li>3</li>\n",
       "\t<li>3</li>\n",
       "\t<li>3</li>\n",
       "\t<li>3</li>\n",
       "\t<li>3</li>\n",
       "\t<li>3</li>\n",
       "\t<li>3</li>\n",
       "\t<li>3</li>\n",
       "\t<li>3</li>\n",
       "\t<li>3</li>\n",
       "\t<li>2</li>\n",
       "\t<li>3</li>\n",
       "\t<li>2</li>\n",
       "\t<li>2</li>\n",
       "\t<li>2</li>\n",
       "\t<li>2</li>\n",
       "\t<li>3</li>\n",
       "\t<li>2</li>\n",
       "\t<li>2</li>\n",
       "\t<li>2</li>\n",
       "\t<li>2</li>\n",
       "\t<li>2</li>\n",
       "\t<li>2</li>\n",
       "\t<li>3</li>\n",
       "\t<li>2</li>\n",
       "\t<li>2</li>\n",
       "\t<li>2</li>\n",
       "\t<li>2</li>\n",
       "\t<li>2</li>\n",
       "\t<li>3</li>\n",
       "\t<li>2</li>\n",
       "\t<li>3</li>\n",
       "\t<li>2</li>\n",
       "\t<li>3</li>\n",
       "\t<li>2</li>\n",
       "\t<li>2</li>\n",
       "\t<li>3</li>\n",
       "\t<li>3</li>\n",
       "\t<li>2</li>\n",
       "\t<li>2</li>\n",
       "\t<li>2</li>\n",
       "\t<li>2</li>\n",
       "\t<li>2</li>\n",
       "\t<li>3</li>\n",
       "\t<li>3</li>\n",
       "\t<li>2</li>\n",
       "\t<li>2</li>\n",
       "\t<li>2</li>\n",
       "\t<li>3</li>\n",
       "\t<li>2</li>\n",
       "\t<li>2</li>\n",
       "\t<li>2</li>\n",
       "\t<li>3</li>\n",
       "\t<li>2</li>\n",
       "\t<li>2</li>\n",
       "\t<li>2</li>\n",
       "\t<li>3</li>\n",
       "\t<li>2</li>\n",
       "\t<li>2</li>\n",
       "\t<li>3</li>\n",
       "</ol>\n"
      ],
      "text/latex": [
       "\\begin{enumerate*}\n",
       "\\item 1\n",
       "\\item 1\n",
       "\\item 1\n",
       "\\item 1\n",
       "\\item 1\n",
       "\\item 1\n",
       "\\item 1\n",
       "\\item 1\n",
       "\\item 1\n",
       "\\item 1\n",
       "\\item 1\n",
       "\\item 1\n",
       "\\item 1\n",
       "\\item 1\n",
       "\\item 1\n",
       "\\item 1\n",
       "\\item 1\n",
       "\\item 1\n",
       "\\item 1\n",
       "\\item 1\n",
       "\\item 1\n",
       "\\item 1\n",
       "\\item 1\n",
       "\\item 1\n",
       "\\item 1\n",
       "\\item 1\n",
       "\\item 1\n",
       "\\item 1\n",
       "\\item 1\n",
       "\\item 1\n",
       "\\item 1\n",
       "\\item 1\n",
       "\\item 1\n",
       "\\item 1\n",
       "\\item 1\n",
       "\\item 1\n",
       "\\item 1\n",
       "\\item 1\n",
       "\\item 1\n",
       "\\item 1\n",
       "\\item 1\n",
       "\\item 1\n",
       "\\item 1\n",
       "\\item 1\n",
       "\\item 1\n",
       "\\item 1\n",
       "\\item 1\n",
       "\\item 1\n",
       "\\item 1\n",
       "\\item 1\n",
       "\\item 2\n",
       "\\item 3\n",
       "\\item 2\n",
       "\\item 3\n",
       "\\item 3\n",
       "\\item 3\n",
       "\\item 3\n",
       "\\item 3\n",
       "\\item 3\n",
       "\\item 3\n",
       "\\item 3\n",
       "\\item 3\n",
       "\\item 3\n",
       "\\item 3\n",
       "\\item 3\n",
       "\\item 3\n",
       "\\item 3\n",
       "\\item 3\n",
       "\\item 3\n",
       "\\item 3\n",
       "\\item 3\n",
       "\\item 3\n",
       "\\item 3\n",
       "\\item 3\n",
       "\\item 3\n",
       "\\item 3\n",
       "\\item 3\n",
       "\\item 2\n",
       "\\item 3\n",
       "\\item 3\n",
       "\\item 3\n",
       "\\item 3\n",
       "\\item 3\n",
       "\\item 3\n",
       "\\item 3\n",
       "\\item 3\n",
       "\\item 3\n",
       "\\item 3\n",
       "\\item 3\n",
       "\\item 3\n",
       "\\item 3\n",
       "\\item 3\n",
       "\\item 3\n",
       "\\item 3\n",
       "\\item 3\n",
       "\\item 3\n",
       "\\item 3\n",
       "\\item 3\n",
       "\\item 3\n",
       "\\item 3\n",
       "\\item 2\n",
       "\\item 3\n",
       "\\item 2\n",
       "\\item 2\n",
       "\\item 2\n",
       "\\item 2\n",
       "\\item 3\n",
       "\\item 2\n",
       "\\item 2\n",
       "\\item 2\n",
       "\\item 2\n",
       "\\item 2\n",
       "\\item 2\n",
       "\\item 3\n",
       "\\item 2\n",
       "\\item 2\n",
       "\\item 2\n",
       "\\item 2\n",
       "\\item 2\n",
       "\\item 3\n",
       "\\item 2\n",
       "\\item 3\n",
       "\\item 2\n",
       "\\item 3\n",
       "\\item 2\n",
       "\\item 2\n",
       "\\item 3\n",
       "\\item 3\n",
       "\\item 2\n",
       "\\item 2\n",
       "\\item 2\n",
       "\\item 2\n",
       "\\item 2\n",
       "\\item 3\n",
       "\\item 3\n",
       "\\item 2\n",
       "\\item 2\n",
       "\\item 2\n",
       "\\item 3\n",
       "\\item 2\n",
       "\\item 2\n",
       "\\item 2\n",
       "\\item 3\n",
       "\\item 2\n",
       "\\item 2\n",
       "\\item 2\n",
       "\\item 3\n",
       "\\item 2\n",
       "\\item 2\n",
       "\\item 3\n",
       "\\end{enumerate*}\n"
      ],
      "text/markdown": [
       "1. 1\n",
       "2. 1\n",
       "3. 1\n",
       "4. 1\n",
       "5. 1\n",
       "6. 1\n",
       "7. 1\n",
       "8. 1\n",
       "9. 1\n",
       "10. 1\n",
       "11. 1\n",
       "12. 1\n",
       "13. 1\n",
       "14. 1\n",
       "15. 1\n",
       "16. 1\n",
       "17. 1\n",
       "18. 1\n",
       "19. 1\n",
       "20. 1\n",
       "21. 1\n",
       "22. 1\n",
       "23. 1\n",
       "24. 1\n",
       "25. 1\n",
       "26. 1\n",
       "27. 1\n",
       "28. 1\n",
       "29. 1\n",
       "30. 1\n",
       "31. 1\n",
       "32. 1\n",
       "33. 1\n",
       "34. 1\n",
       "35. 1\n",
       "36. 1\n",
       "37. 1\n",
       "38. 1\n",
       "39. 1\n",
       "40. 1\n",
       "41. 1\n",
       "42. 1\n",
       "43. 1\n",
       "44. 1\n",
       "45. 1\n",
       "46. 1\n",
       "47. 1\n",
       "48. 1\n",
       "49. 1\n",
       "50. 1\n",
       "51. 2\n",
       "52. 3\n",
       "53. 2\n",
       "54. 3\n",
       "55. 3\n",
       "56. 3\n",
       "57. 3\n",
       "58. 3\n",
       "59. 3\n",
       "60. 3\n",
       "61. 3\n",
       "62. 3\n",
       "63. 3\n",
       "64. 3\n",
       "65. 3\n",
       "66. 3\n",
       "67. 3\n",
       "68. 3\n",
       "69. 3\n",
       "70. 3\n",
       "71. 3\n",
       "72. 3\n",
       "73. 3\n",
       "74. 3\n",
       "75. 3\n",
       "76. 3\n",
       "77. 3\n",
       "78. 2\n",
       "79. 3\n",
       "80. 3\n",
       "81. 3\n",
       "82. 3\n",
       "83. 3\n",
       "84. 3\n",
       "85. 3\n",
       "86. 3\n",
       "87. 3\n",
       "88. 3\n",
       "89. 3\n",
       "90. 3\n",
       "91. 3\n",
       "92. 3\n",
       "93. 3\n",
       "94. 3\n",
       "95. 3\n",
       "96. 3\n",
       "97. 3\n",
       "98. 3\n",
       "99. 3\n",
       "100. 3\n",
       "101. 2\n",
       "102. 3\n",
       "103. 2\n",
       "104. 2\n",
       "105. 2\n",
       "106. 2\n",
       "107. 3\n",
       "108. 2\n",
       "109. 2\n",
       "110. 2\n",
       "111. 2\n",
       "112. 2\n",
       "113. 2\n",
       "114. 3\n",
       "115. 2\n",
       "116. 2\n",
       "117. 2\n",
       "118. 2\n",
       "119. 2\n",
       "120. 3\n",
       "121. 2\n",
       "122. 3\n",
       "123. 2\n",
       "124. 3\n",
       "125. 2\n",
       "126. 2\n",
       "127. 3\n",
       "128. 3\n",
       "129. 2\n",
       "130. 2\n",
       "131. 2\n",
       "132. 2\n",
       "133. 2\n",
       "134. 3\n",
       "135. 3\n",
       "136. 2\n",
       "137. 2\n",
       "138. 2\n",
       "139. 3\n",
       "140. 2\n",
       "141. 2\n",
       "142. 2\n",
       "143. 3\n",
       "144. 2\n",
       "145. 2\n",
       "146. 2\n",
       "147. 3\n",
       "148. 2\n",
       "149. 2\n",
       "150. 3\n",
       "\n",
       "\n"
      ],
      "text/plain": [
       "  [1] 1 1 1 1 1 1 1 1 1 1 1 1 1 1 1 1 1 1 1 1 1 1 1 1 1 1 1 1 1 1 1 1 1 1 1 1 1\n",
       " [38] 1 1 1 1 1 1 1 1 1 1 1 1 1 2 3 2 3 3 3 3 3 3 3 3 3 3 3 3 3 3 3 3 3 3 3 3 3\n",
       " [75] 3 3 3 2 3 3 3 3 3 3 3 3 3 3 3 3 3 3 3 3 3 3 3 3 3 3 2 3 2 2 2 2 3 2 2 2 2\n",
       "[112] 2 2 3 2 2 2 2 2 3 2 3 2 3 2 2 3 3 2 2 2 2 2 3 3 2 2 2 3 2 2 2 3 2 2 2 3 2\n",
       "[149] 2 3"
      ]
     },
     "metadata": {},
     "output_type": "display_data"
    }
   ],
   "source": [
    "result$cluster"
   ]
  },
  {
   "cell_type": "markdown",
   "metadata": {},
   "source": [
    "Darüber hinaus kann nun die Homogenität innerhalb der einzelnen Cluster berechnet und ausgegeben werden. <br>Hierbei nutzt man die Summe der Fehlerquadrate. Diese sollten möglichst gering sein bei einer hohen Kompaktheit bzw. Homogenität."
   ]
  },
  {
   "cell_type": "code",
   "execution_count": 18,
   "metadata": {},
   "outputs": [
    {
     "data": {
      "text/html": [
       "<ol class=list-inline>\n",
       "\t<li>1.82906211430836</li>\n",
       "\t<li>2.07332408116725</li>\n",
       "\t<li>3.07983027830962</li>\n",
       "</ol>\n"
      ],
      "text/latex": [
       "\\begin{enumerate*}\n",
       "\\item 1.82906211430836\n",
       "\\item 2.07332408116725\n",
       "\\item 3.07983027830962\n",
       "\\end{enumerate*}\n"
      ],
      "text/markdown": [
       "1. 1.82906211430836\n",
       "2. 2.07332408116725\n",
       "3. 3.07983027830962\n",
       "\n",
       "\n"
      ],
      "text/plain": [
       "[1] 1.829062 2.073324 3.079830"
      ]
     },
     "metadata": {},
     "output_type": "display_data"
    }
   ],
   "source": [
    "result$withinss"
   ]
  },
  {
   "cell_type": "code",
   "execution_count": 19,
   "metadata": {},
   "outputs": [
    {
     "data": {
      "text/html": [
       "6.98221647378523"
      ],
      "text/latex": [
       "6.98221647378523"
      ],
      "text/markdown": [
       "6.98221647378523"
      ],
      "text/plain": [
       "[1] 6.982216"
      ]
     },
     "metadata": {},
     "output_type": "display_data"
    }
   ],
   "source": [
    "result$tot.withinss"
   ]
  },
  {
   "cell_type": "markdown",
   "metadata": {},
   "source": [
    "Das Berechnen der Heterogenität zwischen den Clustern ist ebenfalls möglich. Hier sollte die Zahl möglichst groß sein, da dies für eine hohe Unterschiedlichkeit der einzelnen Clustern spricht."
   ]
  },
  {
   "cell_type": "code",
   "execution_count": 20,
   "metadata": {},
   "outputs": [
    {
     "data": {
      "text/html": [
       "34.1838939475881"
      ],
      "text/latex": [
       "34.1838939475881"
      ],
      "text/markdown": [
       "34.1838939475881"
      ],
      "text/plain": [
       "[1] 34.18389"
      ]
     },
     "metadata": {},
     "output_type": "display_data"
    }
   ],
   "source": [
    "result$betweenss"
   ]
  },
  {
   "cell_type": "markdown",
   "metadata": {},
   "source": [
    "Auch lässt sich die Summe von innerer Homogenität und äußerer Heterogenität einfach ausgeben."
   ]
  },
  {
   "cell_type": "code",
   "execution_count": 22,
   "metadata": {},
   "outputs": [
    {
     "data": {
      "text/html": [
       "41.1661104213733"
      ],
      "text/latex": [
       "41.1661104213733"
      ],
      "text/markdown": [
       "41.1661104213733"
      ],
      "text/plain": [
       "[1] 41.16611"
      ]
     },
     "metadata": {},
     "output_type": "display_data"
    }
   ],
   "source": [
    "result$totss"
   ]
  },
  {
   "cell_type": "markdown",
   "metadata": {},
   "source": [
    "Zuletzt kann die Heterogenität zwischen den Clustern in Prozent berechnet und ausgegeben werden. Umso höher der Wert ist umso besser. Das Maximum liegt bei 100 %."
   ]
  },
  {
   "cell_type": "code",
   "execution_count": 23,
   "metadata": {},
   "outputs": [
    {
     "data": {
      "text/html": [
       "0.830389210874776"
      ],
      "text/latex": [
       "0.830389210874776"
      ],
      "text/markdown": [
       "0.830389210874776"
      ],
      "text/plain": [
       "[1] 0.8303892"
      ]
     },
     "metadata": {},
     "output_type": "display_data"
    }
   ],
   "source": [
    "result$betweens / result$totss"
   ]
  },
  {
   "cell_type": "markdown",
   "metadata": {},
   "source": [
    "Nun kann das Ergebnis noch geplottet werden und mit den Orginalklassen (Spezien) verglichen werden.<br>\n",
    "Dabei dient die Funktion `par` zum Einstellen von graphischen Parametern, wie z. B. dem Abstand durch `mar` oder die Dimensionen durch `mfrow`. Durch die Funktion `plot` werden die ausgewählten Punkte im Schaubild angezeigt und farblich gekennzeichnet."
   ]
  },
  {
   "cell_type": "code",
   "execution_count": 24,
   "metadata": {},
   "outputs": [
    {
     "data": {
      "image/png": "[encoded data removed]",
      "text/plain": [
       "plot without title"
      ]
     },
     "metadata": {},
     "output_type": "display_data"
    }
   ],
   "source": [
    "par(mfrow=c(2,2), mar=c(5,4,2,2))\n",
    "plot(iris.new[c(1,2)], col=result$cluster)\n",
    "plot(iris.new[c(1,2)], col=iris.class)\n",
    "plot(iris.new[c(3,4)], col=result$cluster)\n",
    "plot(iris.new[c(3,4)], col=iris.class)"
   ]
  },
  {
   "cell_type": "markdown",
   "metadata": {},
   "source": [
    "Nach der graphischen Ausgabe sehen wir uns die Einteilung der neuen Cluster in Bezug auf die vorhandenen Spezien in Tabellenform an."
   ]
  },
  {
   "cell_type": "code",
   "execution_count": 25,
   "metadata": {},
   "outputs": [
    {
     "data": {
      "text/plain": [
       "   iris.class\n",
       "    setosa versicolor virginica\n",
       "  1     50          0         0\n",
       "  2      0          3        36\n",
       "  3      0         47        14"
      ]
     },
     "metadata": {},
     "output_type": "display_data"
    }
   ],
   "source": [
    "table(result$cluster,iris.class)"
   ]
  },
  {
   "cell_type": "markdown",
   "metadata": {},
   "source": [
    "Das heißt Gruppe 3 entspricht Setosa, Gruppe 2 entspricht Versicolor, Gruppe 1 entspricht Virginica. <br>\n",
    "Anzahl richtig zugewiesener Examplare: 50+47+36 = 133. <br>\n",
    "Anzahl falsch zugewiesener Examplare: 0+14+3 = 17. <br>\n",
    "Daraufhin kann die Genauigkeit unseres Modells berechnet werden."
   ]
  },
  {
   "cell_type": "code",
   "execution_count": 26,
   "metadata": {},
   "outputs": [
    {
     "data": {
      "text/html": [
       "0.886666666666667"
      ],
      "text/latex": [
       "0.886666666666667"
      ],
      "text/markdown": [
       "0.886666666666667"
      ],
      "text/plain": [
       "[1] 0.8866667"
      ]
     },
     "metadata": {},
     "output_type": "display_data"
    }
   ],
   "source": [
    "accuracy <- (133/(133+17))\n",
    "accuracy"
   ]
  },
  {
   "cell_type": "markdown",
   "metadata": {},
   "source": [
    "Das heißt unser Modell hat eine Genauigkeit von ca. 89% erreicht. __Anmerkung(10): Alle Zahlen-Ausgaben könnten noch gerundet werden.__"
   ]
  }
 ],
 "metadata": {
  "kernelspec": {
   "display_name": "R",
   "language": "R",
   "name": "ir"
  },
  "language_info": {
   "codemirror_mode": "r",
   "file_extension": ".r",
   "mimetype": "text/x-r-source",
   "name": "R",
   "pygments_lexer": "r",
   "version": "3.4.4"
  }
 },
 "nbformat": 4,
 "nbformat_minor": 2
}
