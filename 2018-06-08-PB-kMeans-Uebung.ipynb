{
 "cells": [
  {
   "cell_type": "markdown",
   "metadata": {},
   "source": [
    "# Übungen zu Clustering mit k-Means"
   ]
  },
  {
   "cell_type": "markdown",
   "metadata": {},
   "source": [
    "> Führen Sie den k-Means Algorithmus mit R auf den Standarddatensatz `USArrests` durch und beantworten Sie die gestellten Fragen. <br> Der Datensatz liefert dabei Verbrechensdaten aus den USA."
   ]
  },
  {
   "cell_type": "markdown",
   "metadata": {},
   "source": [
    "## Aufgabe 1\n",
    "\n",
    "Binden Sie alle notwendigen Bibliotheken ein und laden Sie den Standarddatensatz `USArrests` als Dataframe ein. <br>\n",
    "Wie viele Merkmalswerte liegen bei diesem Datensatz vor? <br>\n",
    "Wie viele Einträge hat jeder Merkmalswert? Welche Bedeutung hat diese Zahl? <br>\n",
    "Welcher Merkmalswert hat den höchsten Mittelwert?"
   ]
  },
  {
   "cell_type": "code",
   "execution_count": null,
   "metadata": {},
   "outputs": [],
   "source": []
  },
  {
   "cell_type": "markdown",
   "metadata": {},
   "source": [
    "## Aufgabe 2\n",
    "\n",
    "Lassen Sie sich die ersten Datensätze anzeigen. Was könnte an den Werten problematisch sein? <br>\n",
    "Führen Sie nachfolgend eine Normalisierung der Werte durch und überprüfen diese anhand der ersten Datensätze."
   ]
  },
  {
   "cell_type": "code",
   "execution_count": null,
   "metadata": {},
   "outputs": [],
   "source": []
  },
  {
   "cell_type": "markdown",
   "metadata": {},
   "source": [
    "## Aufgabe 3\n",
    "\n",
    "Bestimmen Sie, anhand der Ellenbogenmethode, die optimale Anzahl an Clustern/Gruppen. <br>\n",
    "Führen Sie im nächsten Schritt den k-Means-Algorithmus durch (zuvor führen Sie `set.seed(1)` aus) und speichern Sie das Ergebnis. <br>\n",
    "Dabei sind maximal 8 Iterationen erlaubt und es soll aus 25 zufällig erstellten Initialisierungsmengen ausgewählt werden. <br>\n",
    "Wie viele Elemente wurden der Gruppe 3 zugeordnet? <br>\n",
    "Welcher Gruppe ist Ohio zugeordnet? <br>\n",
    "Wie viel beträgt die Heterogenität aller Cluster (in %)?"
   ]
  },
  {
   "cell_type": "code",
   "execution_count": null,
   "metadata": {},
   "outputs": [],
   "source": []
  },
  {
   "cell_type": "markdown",
   "metadata": {},
   "source": [
    "## Aufgabe 4\n",
    "\n",
    "Lassen Sie sich die absoluten Durschnittswerte aller Cluster anzeigen. <br>\n",
    "Welche Verbrechensart kommt am wenigstens bei Gruppe 2 vor? <br>\n",
    "Hinweis: Nutze die Funktion `aggregate`."
   ]
  },
  {
   "cell_type": "code",
   "execution_count": null,
   "metadata": {},
   "outputs": [],
   "source": []
  },
  {
   "cell_type": "markdown",
   "metadata": {},
   "source": [
    "## Aufgabe 5\n",
    "\n",
    "Lassen Sie die Cluster graphisch darstellen. <br>\n",
    "Hinweis: Nutze die Funktion `fviz_cluster`. <br>\n",
    "Welche beiden Verbrechensarten werden im Schaubild hauptsächlich für die beiden Dimensionen verwendet? <br>\n",
    "Was bedeuten positive bzw. negative Achsenwerte in Bezug auf die Häufigkeit der Verbrechen?"
   ]
  },
  {
   "cell_type": "code",
   "execution_count": null,
   "metadata": {},
   "outputs": [],
   "source": []
  }
 ],
 "metadata": {
  "kernelspec": {
   "display_name": "R",
   "language": "R",
   "name": "ir"
  },
  "language_info": {
   "codemirror_mode": "r",
   "file_extension": ".r",
   "mimetype": "text/x-r-source",
   "name": "R",
   "pygments_lexer": "r",
   "version": "3.4.3"
  }
 },
 "nbformat": 4,
 "nbformat_minor": 2
}
